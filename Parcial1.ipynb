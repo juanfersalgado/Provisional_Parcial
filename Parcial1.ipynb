{
  "nbformat": 4,
  "nbformat_minor": 0,
  "metadata": {
    "colab": {
      "name": "Parcial1.ipynb",
      "provenance": [],
      "collapsed_sections": []
    },
    "kernelspec": {
      "name": "python3",
      "display_name": "Python 3"
    },
    "language_info": {
      "name": "python"
    }
  },
  "cells": [
    {
      "cell_type": "markdown",
      "source": [
        "1)  En un notebook de jupyter desarrolle los siguientes pasos\n",
        "\n",
        "\n",
        "Descargue el JSON con la lista de paises: https://gist.githubusercontent.com/keeguon/2310008/raw/bdc2ce1c1e3f28f9cab5b4393c7549f38361be4e/countries.json y escoja aleatoriamente un país"
      ],
      "metadata": {
        "id": "P_O4XEsb4BR4"
      }
    },
    {
      "cell_type": "code",
      "source": [
        "import requests, json, random\n",
        "import numpy as np\n",
        "a = np.random.randint(50) #Escoge el número (aleatorio) del país asignado\n",
        "\n",
        "url = requests.get(\"https://api.worldbank.org/v2/country?format=json\") #importamos el archivo url\n",
        "text = url.text\n",
        "\n",
        "data = json.loads(text) #Convertimos los datos a cadena\n",
        "\n",
        "Countries = data[1]\n",
        "Country = Countries[a]\n",
        "\n",
        "print(Country['name'])\n"
      ],
      "metadata": {
        "colab": {
          "base_uri": "https://localhost:8080/"
        },
        "id": "qKdy9rHB6LmD",
        "outputId": "66672643-bfc0-4255-c23f-cf2ea88b70da"
      },
      "execution_count": 248,
      "outputs": [
        {
          "output_type": "stream",
          "name": "stdout",
          "text": [
            "Australia\n"
          ]
        }
      ]
    },
    {
      "cell_type": "markdown",
      "source": [
        "Use el API de institutions para extraer la lista de instituciones del país, por ejemplo: colombia"
      ],
      "metadata": {
        "id": "X3J1yMnXGNIq"
      }
    },
    {
      "cell_type": "code",
      "source": [
        "url1 = requests.get(\"https://inspirehep.net/api/institutions?=colombia\")\n",
        "response = url1\n",
        "\n",
        "data = response.json().get('hits').get('hits')\n",
        "\n",
        "for i in data:\n",
        "  if i.get(\"metadata\").get(\"number_of_papers\") > 0:\n",
        "    legacy = i.get(\"metadata\").get(\"legacy_ICN\")\n",
        "    print(legacy)\n",
        "    break\n",
        "  print('Ninguna tiene papers')\n"
      ],
      "metadata": {
        "id": "diUJeL9UGWhy"
      },
      "execution_count": null,
      "outputs": []
    },
    {
      "cell_type": "markdown",
      "source": [
        " Con el API de literatura obtenga el JSON con los artículos de menos de 10 autores usando el \"legacy_ICN\".\n",
        " \n",
        " Para al menos un artículo de esa institución, extraiga el URL del perfil de cada autor de esa institución que se encuentra dentro del campo \"authors\" en \"record\" y luego en \"$ref\""
      ],
      "metadata": {
        "id": "cPvHkE4tKBqB"
      }
    },
    {
      "cell_type": "code",
      "source": [
        "url2 = requests.get(\"https://inspirehep.net/api/literature?sort=mostrecent&page=1&q=aff+Colombia,+U.+Natl.+and+ac+1->+10\")\n",
        "response = url2\n",
        "\n",
        "\n",
        "data2 = response.json().get('hits').get('hits')\n",
        "n1=4 #ejemplo\n",
        "n2=8 #ejemplo\n",
        "\n",
        "\n",
        "ap1 = data2[n1].get(\"metadata\").get(\"authors\")\n",
        "ap2 = data2[n2].get(\"metadata\").get(\"authors\")\n",
        "A = ap1+ap2\n",
        "\n",
        "\n",
        "Aref = []\n",
        "for i in A:\n",
        "  Aref.append(i.get(\"record\").get(\"$ref\"))\n",
        "\n",
        "print(Aref)\n"
      ],
      "metadata": {
        "colab": {
          "base_uri": "https://localhost:8080/"
        },
        "id": "wQvL8qVEKh5f",
        "outputId": "98220d94-fdb2-4058-81b4-09e78c135429"
      },
      "execution_count": 251,
      "outputs": [
        {
          "output_type": "stream",
          "name": "stdout",
          "text": [
            "['https://inspirehep.net/api/authors/1964576', 'https://inspirehep.net/api/authors/1985776', 'https://inspirehep.net/api/authors/1964574', 'https://inspirehep.net/api/authors/1010841', 'https://inspirehep.net/api/authors/1027695', 'https://inspirehep.net/api/authors/991621', 'https://inspirehep.net/api/authors/2061384', 'https://inspirehep.net/api/authors/1275278']\n"
          ]
        }
      ]
    },
    {
      "cell_type": "markdown",
      "source": [
        "Con cada uno de los datos del resultado del API para cada perfil construya una tabla con los siguientes columnas (puede que alguno de los datos no esté disponible)"
      ],
      "metadata": {
        "id": "oy0idlArNQvr"
      }
    },
    {
      "cell_type": "code",
      "source": [
        "Tabla = []\n",
        "\n",
        "for ref in Aref:\n",
        "  response = requests.get(ref)\n",
        "  autor = response.json()\n",
        "\n",
        "  name = autor.get(\"metadata\").get(\"name\").get(\"value\")\n",
        "  email = author.get(\"metadata\").get(\"email_adresses\")\n",
        "\n",
        "  autor_append = {\"Nombre\": name}\n",
        "  Tabla.append(autor_append)\n",
        "\n",
        "\n",
        "\n",
        "pd.DataFrame(Tabla)"
      ],
      "metadata": {
        "colab": {
          "base_uri": "https://localhost:8080/",
          "height": 300
        },
        "id": "7NgJSyBNN5Q0",
        "outputId": "b983f10c-1f0d-40c3-eee3-8b99faeae91e"
      },
      "execution_count": 252,
      "outputs": [
        {
          "output_type": "execute_result",
          "data": {
            "text/plain": [
              "                      Nombre\n",
              "0  Vargas-Calderón, Vladimir\n",
              "1      Vinck-Posada, Herbert\n",
              "2         González, Fabio A.\n",
              "3           Elizalde, Emilio\n",
              "4        Izaurieta, Fernando\n",
              "5            Riveros, Carlos\n",
              "6                Salgado, G.\n",
              "7             Valdivia, Omar"
            ],
            "text/html": [
              "\n",
              "  <div id=\"df-e2466ff6-267c-4835-ba4d-bbe347c702d7\">\n",
              "    <div class=\"colab-df-container\">\n",
              "      <div>\n",
              "<style scoped>\n",
              "    .dataframe tbody tr th:only-of-type {\n",
              "        vertical-align: middle;\n",
              "    }\n",
              "\n",
              "    .dataframe tbody tr th {\n",
              "        vertical-align: top;\n",
              "    }\n",
              "\n",
              "    .dataframe thead th {\n",
              "        text-align: right;\n",
              "    }\n",
              "</style>\n",
              "<table border=\"1\" class=\"dataframe\">\n",
              "  <thead>\n",
              "    <tr style=\"text-align: right;\">\n",
              "      <th></th>\n",
              "      <th>Nombre</th>\n",
              "    </tr>\n",
              "  </thead>\n",
              "  <tbody>\n",
              "    <tr>\n",
              "      <th>0</th>\n",
              "      <td>Vargas-Calderón, Vladimir</td>\n",
              "    </tr>\n",
              "    <tr>\n",
              "      <th>1</th>\n",
              "      <td>Vinck-Posada, Herbert</td>\n",
              "    </tr>\n",
              "    <tr>\n",
              "      <th>2</th>\n",
              "      <td>González, Fabio A.</td>\n",
              "    </tr>\n",
              "    <tr>\n",
              "      <th>3</th>\n",
              "      <td>Elizalde, Emilio</td>\n",
              "    </tr>\n",
              "    <tr>\n",
              "      <th>4</th>\n",
              "      <td>Izaurieta, Fernando</td>\n",
              "    </tr>\n",
              "    <tr>\n",
              "      <th>5</th>\n",
              "      <td>Riveros, Carlos</td>\n",
              "    </tr>\n",
              "    <tr>\n",
              "      <th>6</th>\n",
              "      <td>Salgado, G.</td>\n",
              "    </tr>\n",
              "    <tr>\n",
              "      <th>7</th>\n",
              "      <td>Valdivia, Omar</td>\n",
              "    </tr>\n",
              "  </tbody>\n",
              "</table>\n",
              "</div>\n",
              "      <button class=\"colab-df-convert\" onclick=\"convertToInteractive('df-e2466ff6-267c-4835-ba4d-bbe347c702d7')\"\n",
              "              title=\"Convert this dataframe to an interactive table.\"\n",
              "              style=\"display:none;\">\n",
              "        \n",
              "  <svg xmlns=\"http://www.w3.org/2000/svg\" height=\"24px\"viewBox=\"0 0 24 24\"\n",
              "       width=\"24px\">\n",
              "    <path d=\"M0 0h24v24H0V0z\" fill=\"none\"/>\n",
              "    <path d=\"M18.56 5.44l.94 2.06.94-2.06 2.06-.94-2.06-.94-.94-2.06-.94 2.06-2.06.94zm-11 1L8.5 8.5l.94-2.06 2.06-.94-2.06-.94L8.5 2.5l-.94 2.06-2.06.94zm10 10l.94 2.06.94-2.06 2.06-.94-2.06-.94-.94-2.06-.94 2.06-2.06.94z\"/><path d=\"M17.41 7.96l-1.37-1.37c-.4-.4-.92-.59-1.43-.59-.52 0-1.04.2-1.43.59L10.3 9.45l-7.72 7.72c-.78.78-.78 2.05 0 2.83L4 21.41c.39.39.9.59 1.41.59.51 0 1.02-.2 1.41-.59l7.78-7.78 2.81-2.81c.8-.78.8-2.07 0-2.86zM5.41 20L4 18.59l7.72-7.72 1.47 1.35L5.41 20z\"/>\n",
              "  </svg>\n",
              "      </button>\n",
              "      \n",
              "  <style>\n",
              "    .colab-df-container {\n",
              "      display:flex;\n",
              "      flex-wrap:wrap;\n",
              "      gap: 12px;\n",
              "    }\n",
              "\n",
              "    .colab-df-convert {\n",
              "      background-color: #E8F0FE;\n",
              "      border: none;\n",
              "      border-radius: 50%;\n",
              "      cursor: pointer;\n",
              "      display: none;\n",
              "      fill: #1967D2;\n",
              "      height: 32px;\n",
              "      padding: 0 0 0 0;\n",
              "      width: 32px;\n",
              "    }\n",
              "\n",
              "    .colab-df-convert:hover {\n",
              "      background-color: #E2EBFA;\n",
              "      box-shadow: 0px 1px 2px rgba(60, 64, 67, 0.3), 0px 1px 3px 1px rgba(60, 64, 67, 0.15);\n",
              "      fill: #174EA6;\n",
              "    }\n",
              "\n",
              "    [theme=dark] .colab-df-convert {\n",
              "      background-color: #3B4455;\n",
              "      fill: #D2E3FC;\n",
              "    }\n",
              "\n",
              "    [theme=dark] .colab-df-convert:hover {\n",
              "      background-color: #434B5C;\n",
              "      box-shadow: 0px 1px 3px 1px rgba(0, 0, 0, 0.15);\n",
              "      filter: drop-shadow(0px 1px 2px rgba(0, 0, 0, 0.3));\n",
              "      fill: #FFFFFF;\n",
              "    }\n",
              "  </style>\n",
              "\n",
              "      <script>\n",
              "        const buttonEl =\n",
              "          document.querySelector('#df-e2466ff6-267c-4835-ba4d-bbe347c702d7 button.colab-df-convert');\n",
              "        buttonEl.style.display =\n",
              "          google.colab.kernel.accessAllowed ? 'block' : 'none';\n",
              "\n",
              "        async function convertToInteractive(key) {\n",
              "          const element = document.querySelector('#df-e2466ff6-267c-4835-ba4d-bbe347c702d7');\n",
              "          const dataTable =\n",
              "            await google.colab.kernel.invokeFunction('convertToInteractive',\n",
              "                                                     [key], {});\n",
              "          if (!dataTable) return;\n",
              "\n",
              "          const docLinkHtml = 'Like what you see? Visit the ' +\n",
              "            '<a target=\"_blank\" href=https://colab.research.google.com/notebooks/data_table.ipynb>data table notebook</a>'\n",
              "            + ' to learn more about interactive tables.';\n",
              "          element.innerHTML = '';\n",
              "          dataTable['output_type'] = 'display_data';\n",
              "          await google.colab.output.renderOutput(dataTable, element);\n",
              "          const docLink = document.createElement('div');\n",
              "          docLink.innerHTML = docLinkHtml;\n",
              "          element.appendChild(docLink);\n",
              "        }\n",
              "      </script>\n",
              "    </div>\n",
              "  </div>\n",
              "  "
            ]
          },
          "metadata": {},
          "execution_count": 252
        }
      ]
    },
    {
      "cell_type": "markdown",
      "source": [
        "2)\n",
        "\n",
        "a) Genere un polinomio de numpy con 3 raices reales aleatorias entre los dos últimos números diferentes de su identificación"
      ],
      "metadata": {
        "id": "V0MFOwh04dec"
      }
    },
    {
      "cell_type": "code",
      "source": [
        "import numpy as np\n",
        "\n",
        "a = np.random.rand()\n",
        "b = np.random.rand()\n",
        "c = np.random.rand()\n",
        "print(a, b, c)\n",
        "\n",
        "np.roots([a,b,c])"
      ],
      "metadata": {
        "colab": {
          "base_uri": "https://localhost:8080/"
        },
        "id": "AVsEYENC4nmL",
        "outputId": "8232ea33-fd8b-44ae-f6e3-493c5d7840c3"
      },
      "execution_count": 22,
      "outputs": [
        {
          "output_type": "stream",
          "name": "stdout",
          "text": [
            "0.43532739505232876 0.07537582649212127 0.17604771329039814\n"
          ]
        },
        {
          "output_type": "execute_result",
          "data": {
            "text/plain": [
              "array([-0.08657372+0.63000636j, -0.08657372-0.63000636j])"
            ]
          },
          "metadata": {},
          "execution_count": 22
        }
      ]
    },
    {
      "cell_type": "code",
      "source": [
        "import scipy as sp\n",
        "a = np.random.rand()\n",
        "b = np.random.rand()\n",
        "c = np.random.rand()\n",
        "\n",
        "polinomio = [a,b,c]\n",
        "\n",
        "x = sp.arange(-4,2,.05)\n",
        "y = sp.polyval(polinomio,x)\n",
        "\n",
        "raices = sp.roots(polinomio)\n",
        "s = sp.polyval(polinomio,raices)\n",
        "\n",
        "print(raices)"
      ],
      "metadata": {
        "colab": {
          "base_uri": "https://localhost:8080/"
        },
        "id": "NgFkzJZd8RC8",
        "outputId": "a1d59013-04a1-4019-c33c-088dec3d59b7"
      },
      "execution_count": 290,
      "outputs": [
        {
          "output_type": "stream",
          "name": "stdout",
          "text": [
            "[-0.16353312+1.03354413j -0.16353312-1.03354413j]\n"
          ]
        },
        {
          "output_type": "stream",
          "name": "stderr",
          "text": [
            "/usr/local/lib/python3.7/dist-packages/ipykernel_launcher.py:8: DeprecationWarning: scipy.arange is deprecated and will be removed in SciPy 2.0.0, use numpy.arange instead\n",
            "  \n",
            "/usr/local/lib/python3.7/dist-packages/ipykernel_launcher.py:9: DeprecationWarning: scipy.polyval is deprecated and will be removed in SciPy 2.0.0, use numpy.polyval instead\n",
            "  if __name__ == '__main__':\n",
            "/usr/local/lib/python3.7/dist-packages/ipykernel_launcher.py:11: DeprecationWarning: scipy.roots is deprecated and will be removed in SciPy 2.0.0, use numpy.roots instead\n",
            "  # This is added back by InteractiveShellApp.init_path()\n",
            "/usr/local/lib/python3.7/dist-packages/ipykernel_launcher.py:12: DeprecationWarning: scipy.polyval is deprecated and will be removed in SciPy 2.0.0, use numpy.polyval instead\n",
            "  if sys.path[0] == '':\n"
          ]
        }
      ]
    },
    {
      "cell_type": "code",
      "source": [
        "import matplotlib.pyplot as plt\n",
        "plt.plot(x, y, label='y(x)')\n",
        "\n",
        "plt.plot(raices.real,s.real,'ro', label = 'Raices')\n",
        "# Etiquetas \n",
        "plt.xlabel('x')\n",
        "plt.ylabel('y')\n",
        "plt.title('Raices de un polinomio de x^3')\n",
        "# Leyenda\n",
        "plt.legend()\n",
        "# Mostramos la figura en pantalla\n",
        "plt.show()"
      ],
      "metadata": {
        "colab": {
          "base_uri": "https://localhost:8080/",
          "height": 295
        },
        "id": "WyxECDRxXhqq",
        "outputId": "604d524c-f73f-4b02-98ce-7fee03932a57"
      },
      "execution_count": 291,
      "outputs": [
        {
          "output_type": "display_data",
          "data": {
            "text/plain": [
              "<Figure size 432x288 with 1 Axes>"
            ],
            "image/png": "[encoded data removed]"
          },
          "metadata": {
            "needs_background": "light"
          }
        }
      ]
    },
    {
      "cell_type": "code",
      "source": [
        ""
      ],
      "metadata": {
        "id": "gJXioMOZZdfJ"
      },
      "execution_count": null,
      "outputs": []
    }
  ]
}